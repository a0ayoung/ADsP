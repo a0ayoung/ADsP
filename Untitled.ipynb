{
 "cells": [
  {
   "cell_type": "code",
   "execution_count": 2,
   "metadata": {},
   "outputs": [
    {
     "name": "stderr",
     "output_type": "stream",
     "text": [
      "UsageError: Line magic function `%matplot` not found.\n"
     ]
    }
   ],
   "source": [
    "import pandas as pd\n",
    "import numpy as np\n",
    "import seaborn as sns\n",
    "import matplotlib.pyplot as plt\n",
    "import sklearn \n",
    "%matplot lib inline"
   ]
  },
  {
   "cell_type": "code",
   "execution_count": null,
   "metadata": {},
   "outputs": [],
   "source": [
    "#df= pd.read_csv('suicide_total_micro_NAx99x999x.csv')\n",
    "gun=pd.read_csv('suicidemerge_bygunsu.csv')\n",
    "df=pd.read_csv('try_1.csv')\n",
    "#nal=pd.read_csv('nal.csv')\n",
    "#df= pd.read_excel('suicidetotalGyeonggi.xlsx')\n",
    "#df= pd.read_excel('(자살)일별_날씨통합.xlsx')\n",
    "#sc_event=pd.read_excel('(자살)경기서울.xlsx')\n",
    "#sc_day=pd.read_excel('(자살)경기서울_일별건수.xlsx')\n",
    "#cl_time=pd.read_excel('(기상)서울.xlsx')\n",
    "#cl_day=pd.read_csv('nal.csv')\n",
    "el=pd.read_csv"
   ]
  },
  {
   "cell_type": "code",
   "execution_count": 3,
   "metadata": {},
   "outputs": [],
   "source": [
    "df = pd.read_csv(\"try_1.csv\")"
   ]
  },
  {
   "cell_type": "code",
   "execution_count": 38,
   "metadata": {},
   "outputs": [
    {
     "name": "stdout",
     "output_type": "stream",
     "text": [
      "<class 'pandas.core.frame.DataFrame'>\n",
      "Int64Index: 204386 entries, 0 to 204424\n",
      "Data columns (total 19 columns):\n",
      "date               204386 non-null object\n",
      "time               204386 non-null int64\n",
      "sex                204386 non-null object\n",
      "year               204386 non-null int64\n",
      "month              204386 non-null int64\n",
      "d_date             204386 non-null int64\n",
      "age                204386 non-null int64\n",
      "job                204386 non-null int64\n",
      "marriage           204386 non-null int64\n",
      "edu                204386 non-null int64\n",
      "temp               204386 non-null float64\n",
      "lowest_temp        204386 non-null float64\n",
      "highest_temp       204386 non-null float64\n",
      "humidity           204386 non-null float64\n",
      "total_sun          204386 non-null float64\n",
      "cloud              204386 non-null float64\n",
      "air_pressure       204386 non-null float64\n",
      "daily_temp_diff    204386 non-null float64\n",
      "suicide            204386 non-null int64\n",
      "dtypes: float64(8), int64(9), object(2)\n",
      "memory usage: 31.2+ MB\n"
     ]
    }
   ],
   "source": [
    "df = df[~df['age'].isin(['999'])]\n",
    "df.info()"
   ]
  },
  {
   "cell_type": "code",
   "execution_count": 39,
   "metadata": {},
   "outputs": [
    {
     "name": "stdout",
     "output_type": "stream",
     "text": [
      "<class 'pandas.core.frame.DataFrame'>\n",
      "Int64Index: 204386 entries, 0 to 204424\n",
      "Data columns (total 19 columns):\n",
      "date               204386 non-null object\n",
      "time               204386 non-null int64\n",
      "sex                204386 non-null object\n",
      "year               204386 non-null int64\n",
      "month              204386 non-null int64\n",
      "d_date             204386 non-null int64\n",
      "age                204386 non-null int64\n",
      "job                204386 non-null int64\n",
      "marriage           204386 non-null int64\n",
      "edu                204386 non-null int64\n",
      "temp               204386 non-null float64\n",
      "lowest_temp        204386 non-null float64\n",
      "highest_temp       204386 non-null float64\n",
      "humidity           204386 non-null float64\n",
      "total_sun          204386 non-null float64\n",
      "cloud              204386 non-null float64\n",
      "air_pressure       204386 non-null float64\n",
      "daily_temp_diff    204386 non-null float64\n",
      "suicide            204386 non-null int64\n",
      "dtypes: float64(8), int64(9), object(2)\n",
      "memory usage: 31.2+ MB\n"
     ]
    }
   ],
   "source": [
    "df.info()"
   ]
  },
  {
   "cell_type": "code",
   "execution_count": null,
   "metadata": {},
   "outputs": [],
   "source": [
    "df.describe()"
   ]
  },
  {
   "cell_type": "code",
   "execution_count": 4,
   "metadata": {},
   "outputs": [
    {
     "name": "stdout",
     "output_type": "stream",
     "text": [
      "<class 'pandas.core.frame.DataFrame'>\n",
      "RangeIndex: 16163 entries, 0 to 16162\n",
      "Data columns (total 17 columns):\n",
      "date        16163 non-null object\n",
      "time        16163 non-null int64\n",
      "sex         16163 non-null int64\n",
      "year        16163 non-null int64\n",
      "month       16163 non-null int64\n",
      "d_date      16163 non-null int64\n",
      "age         16163 non-null int64\n",
      "job         16163 non-null int64\n",
      "marriage    16163 non-null int64\n",
      "edu         16163 non-null int64\n",
      "temp        16163 non-null float64\n",
      "rain        16163 non-null float64\n",
      "humidity    16163 non-null float64\n",
      "cloud       16163 non-null int64\n",
      "clim_num    16163 non-null int64\n",
      "snow        16163 non-null float64\n",
      "sun         16163 non-null float64\n",
      "dtypes: float64(5), int64(11), object(1)\n",
      "memory usage: 2.1+ MB\n"
     ]
    }
   ],
   "source": [
    "df.info()"
   ]
  },
  {
   "cell_type": "code",
   "execution_count": 6,
   "metadata": {},
   "outputs": [
    {
     "data": {
      "text/plain": [
       "0    3415\n",
       "1     430\n",
       "Name: job, dtype: int64"
      ]
     },
     "execution_count": 6,
     "metadata": {},
     "output_type": "execute_result"
    }
   ],
   "source": [
    "df['job'][df['suicide']==1][df['age']>=65].value_counts().sort_index()\n",
    "\n"
   ]
  },
  {
   "cell_type": "code",
   "execution_count": null,
   "metadata": {},
   "outputs": [],
   "source": []
  },
  {
   "cell_type": "code",
   "execution_count": null,
   "metadata": {},
   "outputs": [],
   "source": [
    "#(x=df['temp'][df['month'] == 1],y='edu')\n",
    "df.hist(bins=50, figsize=(20,15))\n",
    "plt.show()"
   ]
  },
  {
   "cell_type": "code",
   "execution_count": null,
   "metadata": {},
   "outputs": [],
   "source": [
    "plt.plot()"
   ]
  },
  {
   "cell_type": "code",
   "execution_count": null,
   "metadata": {},
   "outputs": [],
   "source": [
    "dt['temp'][dt['month'] == 7].plot(kind= 'hist', bins=50 )"
   ]
  },
  {
   "cell_type": "code",
   "execution_count": null,
   "metadata": {},
   "outputs": [],
   "source": [
    "dt.groupby('month').mean()"
   ]
  },
  {
   "cell_type": "code",
   "execution_count": null,
   "metadata": {},
   "outputs": [],
   "source": [
    "pd.scatter_matrix"
   ]
  },
  {
   "cell_type": "code",
   "execution_count": null,
   "metadata": {},
   "outputs": [],
   "source": [
    "(dt['temp'][dt['year']==2014][dt['month'] == 7]>25.6).value_counts()"
   ]
  },
  {
   "cell_type": "code",
   "execution_count": null,
   "metadata": {},
   "outputs": [],
   "source": [
    "(dt['temp'][dt['year']==2014][dt['month'] == 8]>24.7).value_counts()"
   ]
  },
  {
   "cell_type": "code",
   "execution_count": null,
   "metadata": {},
   "outputs": [],
   "source": [
    "dt['month'][dt['year'] == 2016].value_counts().sort_index()"
   ]
  },
  {
   "cell_type": "code",
   "execution_count": null,
   "metadata": {},
   "outputs": [],
   "source": [
    "df['marriage'][df['sex']==1].value_counts().sort_index()"
   ]
  },
  {
   "cell_type": "code",
   "execution_count": null,
   "metadata": {},
   "outputs": [],
   "source": [
    "dt['time'].value_counts()"
   ]
  },
  {
   "cell_type": "code",
   "execution_count": null,
   "metadata": {},
   "outputs": [],
   "source": [
    "s=df.groupby('month')['time'].value_counts().sort_index()\n",
    "with pd.option_context('display.max_rows', None, 'display.max_columns', 3):\n",
    "    display(s)\n"
   ]
  },
  {
   "cell_type": "code",
   "execution_count": null,
   "metadata": {},
   "outputs": [],
   "source": [
    " f=open(\"monthly_time_suicide.txt\", \"a+\")"
   ]
  },
  {
   "cell_type": "code",
   "execution_count": null,
   "metadata": {},
   "outputs": [],
   "source": [
    "f.write('{}'.format(s))\n",
    "f.close()"
   ]
  },
  {
   "cell_type": "code",
   "execution_count": 18,
   "metadata": {},
   "outputs": [],
   "source": []
  },
  {
   "cell_type": "code",
   "execution_count": null,
   "metadata": {},
   "outputs": [],
   "source": []
  }
 ],
 "metadata": {
  "kernelspec": {
   "display_name": "Python 3",
   "language": "python",
   "name": "python3"
  },
  "language_info": {
   "codemirror_mode": {
    "name": "ipython",
    "version": 3
   },
   "file_extension": ".py",
   "mimetype": "text/x-python",
   "name": "python",
   "nbconvert_exporter": "python",
   "pygments_lexer": "ipython3",
   "version": "3.6.5"
  }
 },
 "nbformat": 4,
 "nbformat_minor": 2
}
